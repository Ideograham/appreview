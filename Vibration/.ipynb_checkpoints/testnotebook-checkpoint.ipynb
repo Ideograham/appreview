{
 "cells": [
  {
   "cell_type": "markdown",
   "metadata": {},
   "source": [
    "# Application Review"
   ]
  },
  {
   "cell_type": "markdown",
   "metadata": {},
   "source": [
    "### 225HP @ 2200"
   ]
  },
  {
   "cell_type": "code",
   "execution_count": 1,
   "metadata": {
    "collapsed": false
   },
   "outputs": [],
   "source": [
    "import numpy as np\n",
    "from nptdms import tdms\n",
    "import matplotlib.pyplot as plt\n",
    "\n",
    "from acoustics import Signal\n",
    "from acoustics.standards.iec_61672_1_2013 import (NOMINAL_OCTAVE_CENTER_FREQUENCIES,\n",
    "                                                  NOMINAL_THIRD_OCTAVE_CENTER_FREQUENCIES)\n",
    "import sig\n",
    "\n",
    "%matplotlib inline"
   ]
  },
  {
   "cell_type": "markdown",
   "metadata": {},
   "source": [
    "### Path to TDMS file:"
   ]
  },
  {
   "cell_type": "code",
   "execution_count": 2,
   "metadata": {
    "collapsed": false
   },
   "outputs": [],
   "source": [
    "tdmspath = \"./TDMS/vib.tdms\""
   ]
  },
  {
   "cell_type": "markdown",
   "metadata": {},
   "source": [
    "### Setup Data Structures and Perform Standard calculations"
   ]
  },
  {
   "cell_type": "code",
   "execution_count": 3,
   "metadata": {
    "collapsed": false
   },
   "outputs": [
    {
     "data": {
      "text/plain": [
       "'\\nfor channel in tdfile.group_channels(\\'Vibration\\'):\\n    print(channel.properties)\\n    print(\"\\n\")\\n'"
      ]
     },
     "execution_count": 3,
     "metadata": {},
     "output_type": "execute_result"
    }
   ],
   "source": [
    "#create an instance of tdms data from the specified TDMS file\n",
    "tdfile = tdms.TdmsFile(tdmspath)\n",
    "\n",
    "'''\n",
    "for channel in tdfile.group_channels('Vibration'):\n",
    "    print(channel.properties)\n",
    "    print(\"\\n\")\n",
    "'''"
   ]
  },
  {
   "cell_type": "code",
   "execution_count": 4,
   "metadata": {
    "collapsed": false
   },
   "outputs": [
    {
     "name": "stdout",
     "output_type": "stream",
     "text": [
      "(145061,)\n"
     ]
    }
   ],
   "source": [
    "vib_channels = tdfile.group_channels('Vibration')\n",
    "print(vib_channels[0].raw_data.shape)\n",
    "\n",
    "#for channel in vib_channels:\n",
    "#    print(channel.properties)"
   ]
  },
  {
   "cell_type": "code",
   "execution_count": 5,
   "metadata": {
    "collapsed": false
   },
   "outputs": [],
   "source": [
    "data = tdfile.channel_data('Vibration', 'DOC X')\n",
    "data\n",
    "dataProp = tdfile.group_channels('Vibration')[0].properties\n",
    "DOCSensitivity = float(dataProp['Sensor Sensitivity (mV/EU)'])\n",
    "DOCSensitivity\n",
    "gData = (data * 1000 / DOCSensitivity)"
   ]
  },
  {
   "cell_type": "markdown",
   "metadata": {},
   "source": [
    "### Plot overall Run.  Look at index at bottom for more detailed plot in next cell."
   ]
  },
  {
   "cell_type": "code",
   "execution_count": null,
   "metadata": {
    "collapsed": false
   },
   "outputs": [],
   "source": [
    "#df = tdfile.as_dataframe()\n",
    "#df.plot(figsize=(12,24), color=('r'), subplots=True );"
   ]
  },
  {
   "cell_type": "code",
   "execution_count": null,
   "metadata": {
    "collapsed": false
   },
   "outputs": [],
   "source": [
    "#Convert Data to correct units.  \n",
    "    #Apply the channel sensitivity.\n",
    "N = 8192\n",
    "T = 1/8533.3333\n",
    "yf = scipy.fft(gData[1:8192])\n",
    "w = hanning(N)\n",
    "ywf = (scipy.fft(gData[:8192])*w)\n",
    "xf = np.linspace(0.0, 1.0/(2.0*T), N/2)\n",
    "plt.semilogy(xf[1:N//2], 2.0/N * np.abs(yf[1:N//2]), '-b')\n",
    "plt.semilogy(xf[1:N//2], 2.0/N * np.abs(ywf[1:N//2]), '-r')\n",
    "plt.legend(['FFT', 'FFT w. window'])\n",
    "plt.grid()\n",
    "plt.show()"
   ]
  },
  {
   "cell_type": "code",
   "execution_count": null,
   "metadata": {
    "collapsed": false
   },
   "outputs": [],
   "source": [
    "#Window The Data\n",
    "\n",
    "plt.specgram(gData, NFFT=8192, Fs=8533.3333, Fc=None, detrend=None, window=np.hanning(8192), mode='psd', noverlap=6144, pad_to=None, scale='dB' )\n",
    "plt.show()"
   ]
  },
  {
   "cell_type": "code",
   "execution_count": 6,
   "metadata": {
    "collapsed": false
   },
   "outputs": [],
   "source": [
    "s = Signal(gData, fs=8533)"
   ]
  },
  {
   "cell_type": "code",
   "execution_count": null,
   "metadata": {
    "collapsed": false
   },
   "outputs": [],
   "source": [
    "s.plot_power_spectrum(reference=1.0)"
   ]
  },
  {
   "cell_type": "code",
   "execution_count": 7,
   "metadata": {
    "collapsed": false
   },
   "outputs": [
    {
     "name": "stdout",
     "output_type": "stream",
     "text": [
      "[0.00000000e+00 1.47104471e-07 5.88417797e-07 ... 5.88417797e-07\n",
      " 1.47104471e-07 0.00000000e+00]\n"
     ]
    }
   ],
   "source": [
    "win = np.hanning(8192)\n",
    "print(win)\n",
    "sx = np.array(s)"
   ]
  },
  {
   "cell_type": "code",
   "execution_count": null,
   "metadata": {
    "collapsed": false
   },
   "outputs": [],
   "source": []
  },
  {
   "cell_type": "code",
   "execution_count": 15,
   "metadata": {
    "collapsed": false
   },
   "outputs": [
    {
     "data": {
      "text/plain": [
       "(139264,)"
      ]
     },
     "execution_count": 15,
     "metadata": {},
     "output_type": "execute_result"
    }
   ],
   "source": [
    "x = sig.apply_window(sx, win)\n",
    "x.shape"
   ]
  },
  {
   "cell_type": "code",
   "execution_count": 14,
   "metadata": {
    "collapsed": false
   },
   "outputs": [
    {
     "name": "stderr",
     "output_type": "stream",
     "text": [
      "/home/jack/work/git/appreview/Vibration/sig.py:899: RuntimeWarning: divide by zero encountered in log10\n",
      "  level = 10.0*np.log10(power / ref**2.0)\n"
     ]
    },
    {
     "data": {
      "text/plain": [
       "(OctaveBand([   15.84893192    31.6227766     63.09573445   125.89254118\n",
       "    251.18864315   501.18723363  1000.          1995.26231497\n",
       "   3981.07170553  7943.28234724 15848.93192461]),\n",
       " array([-41.46779168, -11.83539652, -16.76413096,  -3.37478567,\n",
       "        -16.32864745, -21.10415908, -15.4478493 , -11.23597198,\n",
       "        -14.5827846 ,         -inf,         -inf]))"
      ]
     },
     "execution_count": 14,
     "metadata": {},
     "output_type": "execute_result"
    }
   ],
   "source": [
    "sig.octaves(x, s.fs, density=False, frequencies=NOMINAL_OCTAVE_CENTER_FREQUENCIES, ref=1.0)"
   ]
  }
 ],
 "metadata": {
  "kernelspec": {
   "display_name": "Python 3",
   "language": "python",
   "name": "python3"
  },
  "language_info": {
   "codemirror_mode": {
    "name": "ipython",
    "version": 3
   },
   "file_extension": ".py",
   "mimetype": "text/x-python",
   "name": "python",
   "nbconvert_exporter": "python",
   "pygments_lexer": "ipython3",
   "version": "3.6.3"
  }
 },
 "nbformat": 4,
 "nbformat_minor": 0
}
